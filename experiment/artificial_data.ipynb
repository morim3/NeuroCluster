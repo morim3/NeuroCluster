{
 "cells": [
  {
   "cell_type": "code",
   "execution_count": 39,
   "metadata": {
    "collapsed": true
   },
   "outputs": [
    {
     "name": "stdout",
     "output_type": "stream",
     "text": [
      "The autoreload extension is already loaded. To reload it, use:\n",
      "  %reload_ext autoreload\n"
     ]
    }
   ],
   "source": [
    "import math\n",
    "import torch\n",
    "\n",
    "import gpytorch\n",
    "import pyro\n",
    "import pyro.distributions\n",
    "import tqdm.notebook\n",
    "import matplotlib.pyplot as plt\n",
    "\n",
    "\n",
    "from scripts.Model import NeuroCluster\n",
    "\n",
    "import pyro\n",
    "import pyro.optim\n",
    "import pyro.distributions as dist\n",
    "from pyro import poutine\n",
    "from pyro.infer import SVI, TraceEnum_ELBO, config_enumerate, infer_discrete\n",
    "\n",
    "import torch.nn.utils.rnn as rnn\n",
    "import numpy as np\n",
    "\n",
    "%matplotlib inline\n",
    "%load_ext autoreload\n",
    "%autoreload 2"
   ]
  },
  {
   "cell_type": "code",
   "execution_count": 66,
   "outputs": [],
   "source": [
    "batch_size=10\n",
    "intensity_max = 50\n",
    "true_intensity_function = lambda times: torch.sin(times * 2 * math.pi).add(1).mul(intensity_max / 2.)"
   ],
   "metadata": {
    "collapsed": false,
    "pycharm": {
     "name": "#%%\n"
    }
   }
  },
  {
   "cell_type": "code",
   "execution_count": 67,
   "outputs": [
    {
     "name": "stdout",
     "output_type": "stream",
     "text": [
      "Number of sampled arrivals: [54, 54, 54, 54, 54, 54, 54, 54, 54, 54]\n"
     ]
    }
   ],
   "source": [
    "max_time = 2\n",
    "\n",
    "times = torch.linspace(0, max_time, 128)\n",
    "# num_samples = [int(pyro.distributions.Poisson(true_intensity_function(times).mean() * max_time).sample().item()) for _ in range(batch_size)]\n",
    "fix = int(pyro.distributions.Poisson(true_intensity_function(times).mean() * max_time).sample().item())\n",
    "num_samples = [fix for _ in range(batch_size)]\n",
    "print(f\"Number of sampled arrivals: {num_samples}\")"
   ],
   "metadata": {
    "collapsed": false,
    "pycharm": {
     "name": "#%%\n"
    }
   }
  },
  {
   "cell_type": "code",
   "execution_count": 68,
   "outputs": [],
   "source": [
    "def log_prob_accept(val):\n",
    "    intensities = true_intensity_function(val)\n",
    "    res = torch.log(intensities / (true_intensity_function(times).mean() * max_time))\n",
    "    return res\n",
    "\n",
    "arrival_times = [pyro.distributions.Rejector(\n",
    "    propose=pyro.distributions.Uniform(times.min(), times.max()),\n",
    "    log_prob_accept=log_prob_accept,\n",
    "    log_scale=0.\n",
    ")(torch.Size([sample_num])) for sample_num in num_samples]"
   ],
   "metadata": {
    "collapsed": false,
    "pycharm": {
     "name": "#%%\n"
    }
   }
  },
  {
   "cell_type": "code",
   "execution_count": 69,
   "outputs": [
    {
     "data": {
      "text/plain": "<matplotlib.legend.Legend at 0x149c252e370>"
     },
     "execution_count": 69,
     "metadata": {},
     "output_type": "execute_result"
    },
    {
     "data": {
      "text/plain": "<Figure size 432x288 with 1 Axes>",
      "image/png": "[encoded data removed]"
     },
     "metadata": {
      "needs_background": "light"
     },
     "output_type": "display_data"
    }
   ],
   "source": [
    "fig, ax = plt.subplots(1, 1)\n",
    "ax.plot(times, true_intensity_function(times), \"--\", label=r\"True $\\lambda$\")\n",
    "ax.set_xlabel(\"Time\")\n",
    "ax.set_ylabel(\"Intensity ($\\lambda$)\")\n",
    "ax.scatter(arrival_times[2], torch.zeros_like(arrival_times[2]), label=r\"Observed Arrivals\")\n",
    "ax.legend(loc=\"best\")"
   ],
   "metadata": {
    "collapsed": false,
    "pycharm": {
     "name": "#%%\n"
    }
   }
  },
  {
   "cell_type": "code",
   "execution_count": 83,
   "outputs": [
    {
     "name": "stdout",
     "output_type": "stream",
     "text": [
      "PackedSequence(data=tensor([1.0777, 0.4577, 1.3638, 1.3060, 1.2904, 1.8938, 0.2321, 0.0802, 1.3832,\n",
      "        0.1162, 1.4171, 1.3613, 1.1245, 0.3314, 0.6156, 0.2244, 1.3165, 1.0907,\n",
      "        1.1952, 0.3035, 1.3469, 1.1502, 0.1120, 1.2139, 0.0412, 0.5157, 0.3043,\n",
      "        0.2288, 1.3958, 0.1870, 0.3690, 0.3338, 1.4490, 1.1308, 0.4491, 0.0344,\n",
      "        1.1494, 1.2550, 0.4733, 0.5968, 1.3654, 0.0947, 0.1316, 1.1794, 1.3725,\n",
      "        0.2638, 0.2702, 1.2645, 1.1982, 1.4702, 0.4196, 0.3871, 1.1485, 1.1612,\n",
      "        1.3253, 1.3166, 0.1493, 0.0887, 0.0730, 1.2644, 1.9379, 0.3914, 1.3590,\n",
      "        0.1685, 0.3543, 0.1054, 0.3621, 0.9767, 1.0000, 0.2202, 0.9922, 1.1912,\n",
      "        1.4229, 0.3827, 0.0441, 0.0693, 1.3031, 0.2995, 1.3202, 1.5587, 1.3545,\n",
      "        0.2476, 1.2646, 0.9952, 0.4176, 1.4897, 0.9182, 0.1019, 1.2650, 1.8664,\n",
      "        1.5267, 1.2590, 0.2792, 1.9565, 0.2140, 0.8994, 1.6224, 1.2075, 1.5476,\n",
      "        1.3353, 1.4687, 0.2895, 1.4568, 0.3276, 0.3315, 0.1719, 0.0930, 0.8713,\n",
      "        0.0445, 0.3523, 0.2527, 0.2964, 0.2662, 0.1396, 1.2434, 0.9670, 0.2307,\n",
      "        1.2645, 1.4491, 0.2048, 0.0132, 0.2963, 0.2395, 1.2554, 0.0900, 0.0780,\n",
      "        1.4415, 0.1774, 0.2690, 0.3485, 1.2242, 0.4262, 1.2062, 0.0994, 1.1119,\n",
      "        1.2277, 0.1418, 0.1366, 0.2871, 1.4529, 0.0890, 1.0706, 0.3267, 1.5030,\n",
      "        0.2643, 1.4541, 1.6146, 1.5940, 0.3295, 1.2647, 0.0070, 1.2599, 1.2487,\n",
      "        0.2487, 1.2386, 0.0616, 0.2146, 0.4449, 0.0460, 0.4996, 0.3254, 1.9588,\n",
      "        1.0960, 0.0381, 1.6275, 1.1737, 0.5543, 0.5560, 1.0611, 0.3498, 0.4549,\n",
      "        1.0603, 1.4691, 0.9601, 0.5969, 0.5707, 1.2374, 0.1977, 0.4550, 0.4994,\n",
      "        1.3679, 0.5063, 0.4013, 0.1120, 0.6246, 0.2078, 0.5283, 0.4224, 1.1790,\n",
      "        0.2445, 1.4012, 0.2600, 1.2631, 1.5293, 1.4776, 1.1607, 1.9265, 1.2838,\n",
      "        0.3817, 0.3467, 1.5342, 1.5104, 0.3398, 0.5349, 0.4186, 1.3178, 0.9804,\n",
      "        1.9755, 1.4794, 1.0573, 1.0835, 1.2972, 1.5008, 1.5619, 1.9509, 0.2859,\n",
      "        0.3317, 1.0619, 0.9601, 1.9807, 0.9485, 0.3933, 0.1052, 1.5235, 1.5040,\n",
      "        0.2689, 0.0733, 1.1648, 0.1112, 1.3774, 0.3686, 0.9504, 1.4952, 0.1987,\n",
      "        1.2366, 0.0377, 1.1187, 1.4991, 1.2914, 0.4811, 0.3326, 1.0690, 1.5503,\n",
      "        1.0623, 0.0284, 1.1504, 0.1497, 0.4014, 0.0440, 0.1153, 1.5442, 0.2521,\n",
      "        1.0355, 0.2603, 1.3529, 0.2924, 0.4173, 1.2354, 1.3106, 0.1310, 1.3740,\n",
      "        1.2371, 1.0153, 1.1886, 0.0747, 1.1250, 1.1206, 0.2108, 0.1221, 0.3211,\n",
      "        1.0302, 1.9904, 0.1229, 0.5545, 1.4496, 0.6142, 1.8573, 1.4272, 1.2484,\n",
      "        0.0651, 1.3420, 1.5655, 1.2772, 0.9916, 0.2412, 0.1885, 1.1125, 1.1573,\n",
      "        1.0904, 1.3797, 0.0452, 1.9084, 0.3939, 1.3219, 0.3219, 1.1158, 1.6582,\n",
      "        1.3033, 1.1678, 0.4551, 1.2568, 0.5590, 0.4107, 1.4383, 0.9363, 1.2501,\n",
      "        1.3533, 1.5800, 0.3706, 1.4680, 0.2041, 0.1992, 1.5025, 1.3022, 0.0732,\n",
      "        1.1139, 1.9335, 0.4498, 0.3127, 1.1491, 0.2163, 1.1516, 0.0064, 1.4818,\n",
      "        0.3206, 0.3725, 1.6361, 1.3588, 0.2285, 1.4455, 0.1646, 1.4297, 0.9861,\n",
      "        0.8695, 0.4995, 1.3227, 1.1079, 1.2292, 0.5765, 0.1612, 1.2603, 1.9994,\n",
      "        1.3974, 1.3786, 1.3400, 0.3058, 0.0465, 0.3395, 0.0970, 1.1258, 0.1998,\n",
      "        0.9370, 1.1581, 1.1919, 1.3930, 1.0622, 1.0178, 1.0965, 1.4636, 1.4683,\n",
      "        1.1768, 0.0993, 1.3749, 0.2343, 1.2236, 0.4049, 0.0609, 1.2649, 0.2389,\n",
      "        1.4399, 1.4996, 1.3951, 1.6179, 1.9788, 1.2395, 1.5438, 1.5016, 1.2511,\n",
      "        0.4064, 0.3999, 1.2230, 0.2914, 1.8694, 1.2677, 1.2864, 1.5358, 1.1890,\n",
      "        0.3947, 0.3331, 1.3568, 0.1524, 1.3332, 0.3503, 0.5547, 0.0733, 1.1903,\n",
      "        0.1881, 0.6110, 1.1798, 1.3546, 0.1193, 1.3070, 1.6648, 1.0893, 1.3611,\n",
      "        1.0619, 0.3146, 1.4327, 0.1877, 1.8686, 0.1714, 0.4012, 1.4478, 1.2706,\n",
      "        0.0695, 0.9690, 0.1746, 1.3487, 0.9156, 0.2612, 0.3055, 0.9896, 1.1567,\n",
      "        0.5514, 1.4486, 0.1167, 0.4021, 1.4646, 0.1430, 1.1456, 0.1075, 1.3502,\n",
      "        0.0411, 0.3865, 0.3123, 0.3946, 1.2719, 1.4289, 0.3458, 1.3652, 1.2926,\n",
      "        0.0121, 0.1771, 0.9769, 1.0570, 0.9326, 0.0477, 0.2924, 1.1869, 0.1853,\n",
      "        0.3565, 1.2370, 0.2301, 1.2138, 0.1575, 0.1892, 1.0186, 0.4463, 0.2586,\n",
      "        0.1097, 1.3906, 0.1502, 0.1386, 0.1229, 0.5031, 0.4543, 0.0708, 0.4370,\n",
      "        0.1508, 1.4884, 0.2330, 0.0959, 1.1987, 1.2067, 1.0053, 1.1876, 1.4534,\n",
      "        0.2105, 0.1081, 0.9804, 1.0301, 0.3780, 1.2795, 0.0214, 1.2254, 0.3548,\n",
      "        0.2977, 1.3957, 1.9849, 0.4811, 1.4148, 0.5488, 0.0568, 1.0673, 1.5013,\n",
      "        0.2116, 0.8568, 0.2917, 0.1433, 1.3486, 0.0620, 1.1020, 1.1491, 0.2701,\n",
      "        0.2526, 0.1440, 0.4203, 1.1608, 0.1340, 1.1885, 1.2569, 0.4980, 0.0720,\n",
      "        1.7952, 0.2708, 1.0530, 0.9735, 1.3983, 1.2350, 0.5577, 1.4083, 1.4346,\n",
      "        1.9246, 0.4516, 1.2513, 1.6458, 1.1377, 1.3984, 1.4034, 1.1627, 1.2036,\n",
      "        0.4116, 0.3768, 0.2158, 1.1308, 0.2201, 0.0639, 1.1737, 1.2651, 1.4241]), batch_sizes=tensor([10, 10, 10, 10, 10, 10, 10, 10, 10, 10, 10, 10, 10, 10, 10, 10, 10, 10,\n",
      "        10, 10, 10, 10, 10, 10, 10, 10, 10, 10, 10, 10, 10, 10, 10, 10, 10, 10,\n",
      "        10, 10, 10, 10, 10, 10, 10, 10, 10, 10, 10, 10, 10, 10, 10, 10, 10, 10]), sorted_indices=None, unsorted_indices=None)\n"
     ]
    }
   ],
   "source": [
    "padding_value = -1\n",
    "#pad_seq = rnn.pad_sequence(arrival_times, padding_value=padding_value, batch_first=True)\n",
    "pad_seq = rnn.pack_sequence(arrival_times)\n",
    "print(pad_seq)\n",
    "ave_arrivals = np.mean([data_i.numel() for data_i in arrival_times])"
   ],
   "metadata": {
    "collapsed": false,
    "pycharm": {
     "name": "#%%\n"
    }
   }
  },
  {
   "cell_type": "code",
   "execution_count": 89,
   "outputs": [],
   "source": [
    "model = NeuroCluster(ave_arrivals, max_time, class_num=4, num_inducing=64)"
   ],
   "metadata": {
    "collapsed": false,
    "pycharm": {
     "name": "#%%\n"
    }
   }
  },
  {
   "cell_type": "code",
   "execution_count": 90,
   "outputs": [],
   "source": [
    "quadrature_times = torch.linspace(0, max_time, 64)\n"
   ],
   "metadata": {
    "collapsed": false,
    "pycharm": {
     "name": "#%%\n"
    }
   }
  },
  {
   "cell_type": "code",
   "execution_count": 106,
   "outputs": [
    {
     "data": {
      "text/plain": "  0%|          | 0/2 [00:00<?, ?it/s]",
      "application/vnd.jupyter.widget-view+json": {
       "version_major": 2,
       "version_minor": 0,
       "model_id": "d10b7a2feee944ebaad5ec7dc88d6cf3"
      }
     },
     "metadata": {},
     "output_type": "display_data"
    },
    {
     "ename": "NameError",
     "evalue": "name 'np' is not defined",
     "output_type": "error",
     "traceback": [
      "\u001B[1;31m---------------------------------------------------------------------------\u001B[0m",
      "\u001B[1;31mNameError\u001B[0m                                 Traceback (most recent call last)",
      "\u001B[1;32m<ipython-input-106-a1498eeefb5d>\u001B[0m in \u001B[0;36m<module>\u001B[1;34m\u001B[0m\n\u001B[0;32m     16\u001B[0m         \u001B[0mloader\u001B[0m\u001B[1;33m.\u001B[0m\u001B[0mset_postfix\u001B[0m\u001B[1;33m(\u001B[0m\u001B[0mloss\u001B[0m\u001B[1;33m=\u001B[0m\u001B[0mloss\u001B[0m\u001B[1;33m)\u001B[0m\u001B[1;33m\u001B[0m\u001B[1;33m\u001B[0m\u001B[0m\n\u001B[0;32m     17\u001B[0m \u001B[1;33m\u001B[0m\u001B[0m\n\u001B[1;32m---> 18\u001B[1;33m \u001B[0mtrain\u001B[0m\u001B[1;33m(\u001B[0m\u001B[1;33m)\u001B[0m\u001B[1;33m\u001B[0m\u001B[1;33m\u001B[0m\u001B[0m\n\u001B[0m",
      "\u001B[1;32m<ipython-input-106-a1498eeefb5d>\u001B[0m in \u001B[0;36mtrain\u001B[1;34m(lr)\u001B[0m\n\u001B[0;32m     13\u001B[0m     \u001B[0mloader\u001B[0m \u001B[1;33m=\u001B[0m \u001B[0mtqdm\u001B[0m\u001B[1;33m.\u001B[0m\u001B[0mnotebook\u001B[0m\u001B[1;33m.\u001B[0m\u001B[0mtqdm\u001B[0m\u001B[1;33m(\u001B[0m\u001B[0mrange\u001B[0m\u001B[1;33m(\u001B[0m\u001B[0mnum_iter\u001B[0m\u001B[1;33m)\u001B[0m\u001B[1;33m)\u001B[0m\u001B[1;33m\u001B[0m\u001B[1;33m\u001B[0m\u001B[0m\n\u001B[0;32m     14\u001B[0m     \u001B[1;32mfor\u001B[0m \u001B[0mi\u001B[0m \u001B[1;32min\u001B[0m \u001B[0mloader\u001B[0m\u001B[1;33m:\u001B[0m\u001B[1;33m\u001B[0m\u001B[1;33m\u001B[0m\u001B[0m\n\u001B[1;32m---> 15\u001B[1;33m         \u001B[0mloss\u001B[0m \u001B[1;33m=\u001B[0m \u001B[0minfer\u001B[0m\u001B[1;33m.\u001B[0m\u001B[0mstep\u001B[0m\u001B[1;33m(\u001B[0m\u001B[0mpad_seq\u001B[0m\u001B[1;33m,\u001B[0m \u001B[0mquadrature_times\u001B[0m\u001B[1;33m)\u001B[0m\u001B[1;33m\u001B[0m\u001B[1;33m\u001B[0m\u001B[0m\n\u001B[0m\u001B[0;32m     16\u001B[0m         \u001B[0mloader\u001B[0m\u001B[1;33m.\u001B[0m\u001B[0mset_postfix\u001B[0m\u001B[1;33m(\u001B[0m\u001B[0mloss\u001B[0m\u001B[1;33m=\u001B[0m\u001B[0mloss\u001B[0m\u001B[1;33m)\u001B[0m\u001B[1;33m\u001B[0m\u001B[1;33m\u001B[0m\u001B[0m\n\u001B[0;32m     17\u001B[0m \u001B[1;33m\u001B[0m\u001B[0m\n",
      "\u001B[1;32m~\\AppData\\Local\\Programs\\Python\\Python38\\lib\\site-packages\\pyro\\infer\\svi.py\u001B[0m in \u001B[0;36mstep\u001B[1;34m(self, *args, **kwargs)\u001B[0m\n\u001B[0;32m    126\u001B[0m         \u001B[1;31m# get loss and compute gradients\u001B[0m\u001B[1;33m\u001B[0m\u001B[1;33m\u001B[0m\u001B[1;33m\u001B[0m\u001B[0m\n\u001B[0;32m    127\u001B[0m         \u001B[1;32mwith\u001B[0m \u001B[0mpoutine\u001B[0m\u001B[1;33m.\u001B[0m\u001B[0mtrace\u001B[0m\u001B[1;33m(\u001B[0m\u001B[0mparam_only\u001B[0m\u001B[1;33m=\u001B[0m\u001B[1;32mTrue\u001B[0m\u001B[1;33m)\u001B[0m \u001B[1;32mas\u001B[0m \u001B[0mparam_capture\u001B[0m\u001B[1;33m:\u001B[0m\u001B[1;33m\u001B[0m\u001B[1;33m\u001B[0m\u001B[0m\n\u001B[1;32m--> 128\u001B[1;33m             \u001B[0mloss\u001B[0m \u001B[1;33m=\u001B[0m \u001B[0mself\u001B[0m\u001B[1;33m.\u001B[0m\u001B[0mloss_and_grads\u001B[0m\u001B[1;33m(\u001B[0m\u001B[0mself\u001B[0m\u001B[1;33m.\u001B[0m\u001B[0mmodel\u001B[0m\u001B[1;33m,\u001B[0m \u001B[0mself\u001B[0m\u001B[1;33m.\u001B[0m\u001B[0mguide\u001B[0m\u001B[1;33m,\u001B[0m \u001B[1;33m*\u001B[0m\u001B[0margs\u001B[0m\u001B[1;33m,\u001B[0m \u001B[1;33m**\u001B[0m\u001B[0mkwargs\u001B[0m\u001B[1;33m)\u001B[0m\u001B[1;33m\u001B[0m\u001B[1;33m\u001B[0m\u001B[0m\n\u001B[0m\u001B[0;32m    129\u001B[0m \u001B[1;33m\u001B[0m\u001B[0m\n\u001B[0;32m    130\u001B[0m         params = set(site[\"value\"].unconstrained()\n",
      "\u001B[1;32m~\\AppData\\Local\\Programs\\Python\\Python38\\lib\\site-packages\\pyro\\infer\\trace_elbo.py\u001B[0m in \u001B[0;36mloss_and_grads\u001B[1;34m(self, model, guide, *args, **kwargs)\u001B[0m\n\u001B[0;32m    124\u001B[0m         \u001B[0mloss\u001B[0m \u001B[1;33m=\u001B[0m \u001B[1;36m0.0\u001B[0m\u001B[1;33m\u001B[0m\u001B[1;33m\u001B[0m\u001B[0m\n\u001B[0;32m    125\u001B[0m         \u001B[1;31m# grab a trace from the generator\u001B[0m\u001B[1;33m\u001B[0m\u001B[1;33m\u001B[0m\u001B[1;33m\u001B[0m\u001B[0m\n\u001B[1;32m--> 126\u001B[1;33m         \u001B[1;32mfor\u001B[0m \u001B[0mmodel_trace\u001B[0m\u001B[1;33m,\u001B[0m \u001B[0mguide_trace\u001B[0m \u001B[1;32min\u001B[0m \u001B[0mself\u001B[0m\u001B[1;33m.\u001B[0m\u001B[0m_get_traces\u001B[0m\u001B[1;33m(\u001B[0m\u001B[0mmodel\u001B[0m\u001B[1;33m,\u001B[0m \u001B[0mguide\u001B[0m\u001B[1;33m,\u001B[0m \u001B[0margs\u001B[0m\u001B[1;33m,\u001B[0m \u001B[0mkwargs\u001B[0m\u001B[1;33m)\u001B[0m\u001B[1;33m:\u001B[0m\u001B[1;33m\u001B[0m\u001B[1;33m\u001B[0m\u001B[0m\n\u001B[0m\u001B[0;32m    127\u001B[0m             \u001B[0mloss_particle\u001B[0m\u001B[1;33m,\u001B[0m \u001B[0msurrogate_loss_particle\u001B[0m \u001B[1;33m=\u001B[0m \u001B[0mself\u001B[0m\u001B[1;33m.\u001B[0m\u001B[0m_differentiable_loss_particle\u001B[0m\u001B[1;33m(\u001B[0m\u001B[0mmodel_trace\u001B[0m\u001B[1;33m,\u001B[0m \u001B[0mguide_trace\u001B[0m\u001B[1;33m)\u001B[0m\u001B[1;33m\u001B[0m\u001B[1;33m\u001B[0m\u001B[0m\n\u001B[0;32m    128\u001B[0m             \u001B[0mloss\u001B[0m \u001B[1;33m+=\u001B[0m \u001B[0mloss_particle\u001B[0m \u001B[1;33m/\u001B[0m \u001B[0mself\u001B[0m\u001B[1;33m.\u001B[0m\u001B[0mnum_particles\u001B[0m\u001B[1;33m\u001B[0m\u001B[1;33m\u001B[0m\u001B[0m\n",
      "\u001B[1;32m~\\AppData\\Local\\Programs\\Python\\Python38\\lib\\site-packages\\pyro\\infer\\elbo.py\u001B[0m in \u001B[0;36m_get_traces\u001B[1;34m(self, model, guide, args, kwargs)\u001B[0m\n\u001B[0;32m    164\u001B[0m         \u001B[1;32mif\u001B[0m \u001B[0mself\u001B[0m\u001B[1;33m.\u001B[0m\u001B[0mvectorize_particles\u001B[0m\u001B[1;33m:\u001B[0m\u001B[1;33m\u001B[0m\u001B[1;33m\u001B[0m\u001B[0m\n\u001B[0;32m    165\u001B[0m             \u001B[1;32mif\u001B[0m \u001B[0mself\u001B[0m\u001B[1;33m.\u001B[0m\u001B[0mmax_plate_nesting\u001B[0m \u001B[1;33m==\u001B[0m \u001B[0mfloat\u001B[0m\u001B[1;33m(\u001B[0m\u001B[1;34m'inf'\u001B[0m\u001B[1;33m)\u001B[0m\u001B[1;33m:\u001B[0m\u001B[1;33m\u001B[0m\u001B[1;33m\u001B[0m\u001B[0m\n\u001B[1;32m--> 166\u001B[1;33m                 \u001B[0mself\u001B[0m\u001B[1;33m.\u001B[0m\u001B[0m_guess_max_plate_nesting\u001B[0m\u001B[1;33m(\u001B[0m\u001B[0mmodel\u001B[0m\u001B[1;33m,\u001B[0m \u001B[0mguide\u001B[0m\u001B[1;33m,\u001B[0m \u001B[0margs\u001B[0m\u001B[1;33m,\u001B[0m \u001B[0mkwargs\u001B[0m\u001B[1;33m)\u001B[0m\u001B[1;33m\u001B[0m\u001B[1;33m\u001B[0m\u001B[0m\n\u001B[0m\u001B[0;32m    167\u001B[0m             \u001B[1;32myield\u001B[0m \u001B[0mself\u001B[0m\u001B[1;33m.\u001B[0m\u001B[0m_get_vectorized_trace\u001B[0m\u001B[1;33m(\u001B[0m\u001B[0mmodel\u001B[0m\u001B[1;33m,\u001B[0m \u001B[0mguide\u001B[0m\u001B[1;33m,\u001B[0m \u001B[0margs\u001B[0m\u001B[1;33m,\u001B[0m \u001B[0mkwargs\u001B[0m\u001B[1;33m)\u001B[0m\u001B[1;33m\u001B[0m\u001B[1;33m\u001B[0m\u001B[0m\n\u001B[0;32m    168\u001B[0m         \u001B[1;32melse\u001B[0m\u001B[1;33m:\u001B[0m\u001B[1;33m\u001B[0m\u001B[1;33m\u001B[0m\u001B[0m\n",
      "\u001B[1;32m~\\AppData\\Local\\Programs\\Python\\Python38\\lib\\site-packages\\pyro\\infer\\elbo.py\u001B[0m in \u001B[0;36m_guess_max_plate_nesting\u001B[1;34m(self, model, guide, args, kwargs)\u001B[0m\n\u001B[0;32m     92\u001B[0m         \u001B[1;32mwith\u001B[0m \u001B[0mpoutine\u001B[0m\u001B[1;33m.\u001B[0m\u001B[0mblock\u001B[0m\u001B[1;33m(\u001B[0m\u001B[1;33m)\u001B[0m\u001B[1;33m:\u001B[0m\u001B[1;33m\u001B[0m\u001B[1;33m\u001B[0m\u001B[0m\n\u001B[0;32m     93\u001B[0m             \u001B[0mguide_trace\u001B[0m \u001B[1;33m=\u001B[0m \u001B[0mpoutine\u001B[0m\u001B[1;33m.\u001B[0m\u001B[0mtrace\u001B[0m\u001B[1;33m(\u001B[0m\u001B[0mguide\u001B[0m\u001B[1;33m)\u001B[0m\u001B[1;33m.\u001B[0m\u001B[0mget_trace\u001B[0m\u001B[1;33m(\u001B[0m\u001B[1;33m*\u001B[0m\u001B[0margs\u001B[0m\u001B[1;33m,\u001B[0m \u001B[1;33m**\u001B[0m\u001B[0mkwargs\u001B[0m\u001B[1;33m)\u001B[0m\u001B[1;33m\u001B[0m\u001B[1;33m\u001B[0m\u001B[0m\n\u001B[1;32m---> 94\u001B[1;33m             model_trace = poutine.trace(\n\u001B[0m\u001B[0;32m     95\u001B[0m                 poutine.replay(model, trace=guide_trace)).get_trace(*args, **kwargs)\n\u001B[0;32m     96\u001B[0m         \u001B[0mguide_trace\u001B[0m \u001B[1;33m=\u001B[0m \u001B[0mprune_subsample_sites\u001B[0m\u001B[1;33m(\u001B[0m\u001B[0mguide_trace\u001B[0m\u001B[1;33m)\u001B[0m\u001B[1;33m\u001B[0m\u001B[1;33m\u001B[0m\u001B[0m\n",
      "\u001B[1;32m~\\AppData\\Local\\Programs\\Python\\Python38\\lib\\site-packages\\pyro\\poutine\\trace_messenger.py\u001B[0m in \u001B[0;36mget_trace\u001B[1;34m(self, *args, **kwargs)\u001B[0m\n\u001B[0;32m    185\u001B[0m         \u001B[0mCalls\u001B[0m \u001B[0mthis\u001B[0m \u001B[0mpoutine\u001B[0m \u001B[1;32mand\u001B[0m \u001B[0mreturns\u001B[0m \u001B[0mits\u001B[0m \u001B[0mtrace\u001B[0m \u001B[0minstead\u001B[0m \u001B[0mof\u001B[0m \u001B[0mthe\u001B[0m \u001B[0mfunction\u001B[0m\u001B[0;31m'\u001B[0m\u001B[0ms\u001B[0m \u001B[1;32mreturn\u001B[0m \u001B[0mvalue\u001B[0m\u001B[1;33m.\u001B[0m\u001B[1;33m\u001B[0m\u001B[1;33m\u001B[0m\u001B[0m\n\u001B[0;32m    186\u001B[0m         \"\"\"\n\u001B[1;32m--> 187\u001B[1;33m         \u001B[0mself\u001B[0m\u001B[1;33m(\u001B[0m\u001B[1;33m*\u001B[0m\u001B[0margs\u001B[0m\u001B[1;33m,\u001B[0m \u001B[1;33m**\u001B[0m\u001B[0mkwargs\u001B[0m\u001B[1;33m)\u001B[0m\u001B[1;33m\u001B[0m\u001B[1;33m\u001B[0m\u001B[0m\n\u001B[0m\u001B[0;32m    188\u001B[0m         \u001B[1;32mreturn\u001B[0m \u001B[0mself\u001B[0m\u001B[1;33m.\u001B[0m\u001B[0mmsngr\u001B[0m\u001B[1;33m.\u001B[0m\u001B[0mget_trace\u001B[0m\u001B[1;33m(\u001B[0m\u001B[1;33m)\u001B[0m\u001B[1;33m\u001B[0m\u001B[1;33m\u001B[0m\u001B[0m\n",
      "\u001B[1;32m~\\AppData\\Local\\Programs\\Python\\Python38\\lib\\site-packages\\pyro\\poutine\\trace_messenger.py\u001B[0m in \u001B[0;36m__call__\u001B[1;34m(self, *args, **kwargs)\u001B[0m\n\u001B[0;32m    163\u001B[0m                                       args=args, kwargs=kwargs)\n\u001B[0;32m    164\u001B[0m             \u001B[1;32mtry\u001B[0m\u001B[1;33m:\u001B[0m\u001B[1;33m\u001B[0m\u001B[1;33m\u001B[0m\u001B[0m\n\u001B[1;32m--> 165\u001B[1;33m                 \u001B[0mret\u001B[0m \u001B[1;33m=\u001B[0m \u001B[0mself\u001B[0m\u001B[1;33m.\u001B[0m\u001B[0mfn\u001B[0m\u001B[1;33m(\u001B[0m\u001B[1;33m*\u001B[0m\u001B[0margs\u001B[0m\u001B[1;33m,\u001B[0m \u001B[1;33m**\u001B[0m\u001B[0mkwargs\u001B[0m\u001B[1;33m)\u001B[0m\u001B[1;33m\u001B[0m\u001B[1;33m\u001B[0m\u001B[0m\n\u001B[0m\u001B[0;32m    166\u001B[0m             \u001B[1;32mexcept\u001B[0m \u001B[1;33m(\u001B[0m\u001B[0mValueError\u001B[0m\u001B[1;33m,\u001B[0m \u001B[0mRuntimeError\u001B[0m\u001B[1;33m)\u001B[0m \u001B[1;32mas\u001B[0m \u001B[0me\u001B[0m\u001B[1;33m:\u001B[0m\u001B[1;33m\u001B[0m\u001B[1;33m\u001B[0m\u001B[0m\n\u001B[0;32m    167\u001B[0m                 \u001B[0mexc_type\u001B[0m\u001B[1;33m,\u001B[0m \u001B[0mexc_value\u001B[0m\u001B[1;33m,\u001B[0m \u001B[0mtraceback\u001B[0m \u001B[1;33m=\u001B[0m \u001B[0msys\u001B[0m\u001B[1;33m.\u001B[0m\u001B[0mexc_info\u001B[0m\u001B[1;33m(\u001B[0m\u001B[1;33m)\u001B[0m\u001B[1;33m\u001B[0m\u001B[1;33m\u001B[0m\u001B[0m\n",
      "\u001B[1;32m~\\AppData\\Local\\Programs\\Python\\Python38\\lib\\site-packages\\pyro\\poutine\\messenger.py\u001B[0m in \u001B[0;36m_context_wrap\u001B[1;34m(context, fn, *args, **kwargs)\u001B[0m\n\u001B[0;32m     10\u001B[0m \u001B[1;32mdef\u001B[0m \u001B[0m_context_wrap\u001B[0m\u001B[1;33m(\u001B[0m\u001B[0mcontext\u001B[0m\u001B[1;33m,\u001B[0m \u001B[0mfn\u001B[0m\u001B[1;33m,\u001B[0m \u001B[1;33m*\u001B[0m\u001B[0margs\u001B[0m\u001B[1;33m,\u001B[0m \u001B[1;33m**\u001B[0m\u001B[0mkwargs\u001B[0m\u001B[1;33m)\u001B[0m\u001B[1;33m:\u001B[0m\u001B[1;33m\u001B[0m\u001B[1;33m\u001B[0m\u001B[0m\n\u001B[0;32m     11\u001B[0m     \u001B[1;32mwith\u001B[0m \u001B[0mcontext\u001B[0m\u001B[1;33m:\u001B[0m\u001B[1;33m\u001B[0m\u001B[1;33m\u001B[0m\u001B[0m\n\u001B[1;32m---> 12\u001B[1;33m         \u001B[1;32mreturn\u001B[0m \u001B[0mfn\u001B[0m\u001B[1;33m(\u001B[0m\u001B[1;33m*\u001B[0m\u001B[0margs\u001B[0m\u001B[1;33m,\u001B[0m \u001B[1;33m**\u001B[0m\u001B[0mkwargs\u001B[0m\u001B[1;33m)\u001B[0m\u001B[1;33m\u001B[0m\u001B[1;33m\u001B[0m\u001B[0m\n\u001B[0m\u001B[0;32m     13\u001B[0m \u001B[1;33m\u001B[0m\u001B[0m\n\u001B[0;32m     14\u001B[0m \u001B[1;33m\u001B[0m\u001B[0m\n",
      "\u001B[1;32m~\\PycharmProjects\\NeuroCluster\\scripts\\Model.py\u001B[0m in \u001B[0;36mmodel\u001B[1;34m(self, arrival_times, quadrature_times)\u001B[0m\n\u001B[0;32m     74\u001B[0m         \u001B[1;31m# Divide the intensity samples into arrival_intensity_samples and quadrature_intensity_samples\u001B[0m\u001B[1;33m\u001B[0m\u001B[1;33m\u001B[0m\u001B[1;33m\u001B[0m\u001B[0m\n\u001B[0;32m     75\u001B[0m \u001B[1;33m\u001B[0m\u001B[0m\n\u001B[1;32m---> 76\u001B[1;33m         arrival_intensity_samples, quadrature_intensity_samples = intensity_samples.split(np.cat([\n\u001B[0m\u001B[0;32m     77\u001B[0m             \u001B[0marrival_times\u001B[0m\u001B[1;33m.\u001B[0m\u001B[0mbatch_sizes\u001B[0m\u001B[1;33m.\u001B[0m\u001B[0mtolist\u001B[0m\u001B[1;33m(\u001B[0m\u001B[1;33m)\u001B[0m\u001B[1;33m,\u001B[0m \u001B[1;33m[\u001B[0m\u001B[0mquadrature_times\u001B[0m\u001B[1;33m.\u001B[0m\u001B[0msize\u001B[0m\u001B[1;33m(\u001B[0m\u001B[1;33m-\u001B[0m\u001B[1;36m1\u001B[0m\u001B[1;33m)\u001B[0m\u001B[1;33m]\u001B[0m\u001B[1;33m\u001B[0m\u001B[1;33m\u001B[0m\u001B[0m\n\u001B[0;32m     78\u001B[0m         ]), dim=-1)\n",
      "\u001B[1;31mNameError\u001B[0m: name 'np' is not defined"
     ]
    }
   ],
   "source": [
    "import os\n",
    "smoke_test = ('CI' in os.environ)\n",
    "num_iter = 2 if smoke_test else 2\n",
    "num_particles = 1 if smoke_test else 32\n",
    "\n",
    "\n",
    "def train(lr=0.01):\n",
    "    optimizer = pyro.optim.Adam({\"lr\": lr})\n",
    "    loss = pyro.infer.Trace_ELBO(num_particles=num_particles, vectorize_particles=True, retain_graph=True)\n",
    "    infer = pyro.infer.SVI(model.model, model.guide, optimizer, loss=loss)\n",
    "\n",
    "    model.train()\n",
    "    loader = tqdm.notebook.tqdm(range(num_iter))\n",
    "    for i in loader:\n",
    "        loss = infer.step(pad_seq, quadrature_times)\n",
    "        loader.set_postfix(loss=loss)\n",
    "\n",
    "train()"
   ],
   "metadata": {
    "collapsed": false,
    "pycharm": {
     "name": "#%%\n"
    }
   }
  },
  {
   "cell_type": "code",
   "execution_count": 65,
   "outputs": [],
   "source": [
    "# Here's a quick helper function for getting smoothed percentile values from samples\n",
    "def percentiles_from_samples(samples, percentiles=[0.05, 0.5, 0.95]):\n",
    "    num_samples = samples.size(0)\n",
    "    samples = samples.sort(dim=0)[0]\n",
    "\n",
    "    # Get samples corresponding to percentile\n",
    "    percentile_samples = [samples[int(num_samples * percentile)] for percentile in percentiles]\n",
    "\n",
    "    # Smooth the samples\n",
    "    kernel = torch.full((1, 1, 5), fill_value=0.2)\n",
    "    percentile_samples = [\n",
    "        torch.nn.functional.conv1d(percentile_sample.view(1, 1, -1), kernel, padding=2).view(-1)\n",
    "        for percentile_sample in percentile_samples\n",
    "    ]\n",
    "\n",
    "    return percentile_samples"
   ],
   "metadata": {
    "collapsed": false,
    "pycharm": {
     "name": "#%%\n"
    }
   }
  },
  {
   "cell_type": "code",
   "execution_count": 20,
   "outputs": [
    {
     "ename": "ValueError",
     "evalue": "x and y must have same first dimension, but have shapes torch.Size([64]) and torch.Size([256])",
     "output_type": "error",
     "traceback": [
      "\u001B[1;31m---------------------------------------------------------------------------\u001B[0m",
      "\u001B[1;31mValueError\u001B[0m                                Traceback (most recent call last)",
      "\u001B[1;32m<ipython-input-20-f901e9ab1dab>\u001B[0m in \u001B[0;36m<module>\u001B[1;34m\u001B[0m\n\u001B[0;32m      7\u001B[0m \u001B[1;31m# Plot the predicted intensity function\u001B[0m\u001B[1;33m\u001B[0m\u001B[1;33m\u001B[0m\u001B[1;33m\u001B[0m\u001B[0m\n\u001B[0;32m      8\u001B[0m \u001B[0mfig\u001B[0m\u001B[1;33m,\u001B[0m \u001B[0max\u001B[0m \u001B[1;33m=\u001B[0m \u001B[0mplt\u001B[0m\u001B[1;33m.\u001B[0m\u001B[0msubplots\u001B[0m\u001B[1;33m(\u001B[0m\u001B[1;36m1\u001B[0m\u001B[1;33m,\u001B[0m \u001B[1;36m1\u001B[0m\u001B[1;33m)\u001B[0m\u001B[1;33m\u001B[0m\u001B[1;33m\u001B[0m\u001B[0m\n\u001B[1;32m----> 9\u001B[1;33m \u001B[0mline\u001B[0m\u001B[1;33m,\u001B[0m \u001B[1;33m=\u001B[0m \u001B[0max\u001B[0m\u001B[1;33m.\u001B[0m\u001B[0mplot\u001B[0m\u001B[1;33m(\u001B[0m\u001B[0mquadrature_times\u001B[0m\u001B[1;33m,\u001B[0m \u001B[0mmean\u001B[0m\u001B[1;33m,\u001B[0m \u001B[0mlabel\u001B[0m\u001B[1;33m=\u001B[0m\u001B[1;34mr\"Pred $\\lambda$\"\u001B[0m\u001B[1;33m)\u001B[0m\u001B[1;33m\u001B[0m\u001B[1;33m\u001B[0m\u001B[0m\n\u001B[0m\u001B[0;32m     10\u001B[0m \u001B[0max\u001B[0m\u001B[1;33m.\u001B[0m\u001B[0mfill_between\u001B[0m\u001B[1;33m(\u001B[0m\u001B[0mquadrature_times\u001B[0m\u001B[1;33m,\u001B[0m \u001B[0mlower\u001B[0m\u001B[1;33m,\u001B[0m \u001B[0mupper\u001B[0m\u001B[1;33m,\u001B[0m \u001B[0mcolor\u001B[0m\u001B[1;33m=\u001B[0m\u001B[0mline\u001B[0m\u001B[1;33m.\u001B[0m\u001B[0mget_color\u001B[0m\u001B[1;33m(\u001B[0m\u001B[1;33m)\u001B[0m\u001B[1;33m,\u001B[0m \u001B[0malpha\u001B[0m\u001B[1;33m=\u001B[0m\u001B[1;36m0.5\u001B[0m\u001B[1;33m)\u001B[0m\u001B[1;33m\u001B[0m\u001B[1;33m\u001B[0m\u001B[0m\n\u001B[0;32m     11\u001B[0m \u001B[0max\u001B[0m\u001B[1;33m.\u001B[0m\u001B[0mplot\u001B[0m\u001B[1;33m(\u001B[0m\u001B[0mquadrature_times\u001B[0m\u001B[1;33m,\u001B[0m \u001B[0mtrue_intensity_function\u001B[0m\u001B[1;33m(\u001B[0m\u001B[0mquadrature_times\u001B[0m\u001B[1;33m)\u001B[0m\u001B[1;33m,\u001B[0m \u001B[1;34m\"--\"\u001B[0m\u001B[1;33m,\u001B[0m \u001B[0mcolor\u001B[0m\u001B[1;33m=\u001B[0m\u001B[1;34m\"k\"\u001B[0m\u001B[1;33m,\u001B[0m \u001B[0mlabel\u001B[0m\u001B[1;33m=\u001B[0m\u001B[1;34mr\"True. $\\lambda$\"\u001B[0m\u001B[1;33m)\u001B[0m\u001B[1;33m\u001B[0m\u001B[1;33m\u001B[0m\u001B[0m\n",
      "\u001B[1;32m~\\AppData\\Local\\Programs\\Python\\Python38\\lib\\site-packages\\matplotlib\\axes\\_axes.py\u001B[0m in \u001B[0;36mplot\u001B[1;34m(self, scalex, scaley, data, *args, **kwargs)\u001B[0m\n\u001B[0;32m   1741\u001B[0m         \"\"\"\n\u001B[0;32m   1742\u001B[0m         \u001B[0mkwargs\u001B[0m \u001B[1;33m=\u001B[0m \u001B[0mcbook\u001B[0m\u001B[1;33m.\u001B[0m\u001B[0mnormalize_kwargs\u001B[0m\u001B[1;33m(\u001B[0m\u001B[0mkwargs\u001B[0m\u001B[1;33m,\u001B[0m \u001B[0mmlines\u001B[0m\u001B[1;33m.\u001B[0m\u001B[0mLine2D\u001B[0m\u001B[1;33m)\u001B[0m\u001B[1;33m\u001B[0m\u001B[1;33m\u001B[0m\u001B[0m\n\u001B[1;32m-> 1743\u001B[1;33m         \u001B[0mlines\u001B[0m \u001B[1;33m=\u001B[0m \u001B[1;33m[\u001B[0m\u001B[1;33m*\u001B[0m\u001B[0mself\u001B[0m\u001B[1;33m.\u001B[0m\u001B[0m_get_lines\u001B[0m\u001B[1;33m(\u001B[0m\u001B[1;33m*\u001B[0m\u001B[0margs\u001B[0m\u001B[1;33m,\u001B[0m \u001B[0mdata\u001B[0m\u001B[1;33m=\u001B[0m\u001B[0mdata\u001B[0m\u001B[1;33m,\u001B[0m \u001B[1;33m**\u001B[0m\u001B[0mkwargs\u001B[0m\u001B[1;33m)\u001B[0m\u001B[1;33m]\u001B[0m\u001B[1;33m\u001B[0m\u001B[1;33m\u001B[0m\u001B[0m\n\u001B[0m\u001B[0;32m   1744\u001B[0m         \u001B[1;32mfor\u001B[0m \u001B[0mline\u001B[0m \u001B[1;32min\u001B[0m \u001B[0mlines\u001B[0m\u001B[1;33m:\u001B[0m\u001B[1;33m\u001B[0m\u001B[1;33m\u001B[0m\u001B[0m\n\u001B[0;32m   1745\u001B[0m             \u001B[0mself\u001B[0m\u001B[1;33m.\u001B[0m\u001B[0madd_line\u001B[0m\u001B[1;33m(\u001B[0m\u001B[0mline\u001B[0m\u001B[1;33m)\u001B[0m\u001B[1;33m\u001B[0m\u001B[1;33m\u001B[0m\u001B[0m\n",
      "\u001B[1;32m~\\AppData\\Local\\Programs\\Python\\Python38\\lib\\site-packages\\matplotlib\\axes\\_base.py\u001B[0m in \u001B[0;36m__call__\u001B[1;34m(self, data, *args, **kwargs)\u001B[0m\n\u001B[0;32m    271\u001B[0m                 \u001B[0mthis\u001B[0m \u001B[1;33m+=\u001B[0m \u001B[0margs\u001B[0m\u001B[1;33m[\u001B[0m\u001B[1;36m0\u001B[0m\u001B[1;33m]\u001B[0m\u001B[1;33m,\u001B[0m\u001B[1;33m\u001B[0m\u001B[1;33m\u001B[0m\u001B[0m\n\u001B[0;32m    272\u001B[0m                 \u001B[0margs\u001B[0m \u001B[1;33m=\u001B[0m \u001B[0margs\u001B[0m\u001B[1;33m[\u001B[0m\u001B[1;36m1\u001B[0m\u001B[1;33m:\u001B[0m\u001B[1;33m]\u001B[0m\u001B[1;33m\u001B[0m\u001B[1;33m\u001B[0m\u001B[0m\n\u001B[1;32m--> 273\u001B[1;33m             \u001B[1;32myield\u001B[0m \u001B[1;32mfrom\u001B[0m \u001B[0mself\u001B[0m\u001B[1;33m.\u001B[0m\u001B[0m_plot_args\u001B[0m\u001B[1;33m(\u001B[0m\u001B[0mthis\u001B[0m\u001B[1;33m,\u001B[0m \u001B[0mkwargs\u001B[0m\u001B[1;33m)\u001B[0m\u001B[1;33m\u001B[0m\u001B[1;33m\u001B[0m\u001B[0m\n\u001B[0m\u001B[0;32m    274\u001B[0m \u001B[1;33m\u001B[0m\u001B[0m\n\u001B[0;32m    275\u001B[0m     \u001B[1;32mdef\u001B[0m \u001B[0mget_next_color\u001B[0m\u001B[1;33m(\u001B[0m\u001B[0mself\u001B[0m\u001B[1;33m)\u001B[0m\u001B[1;33m:\u001B[0m\u001B[1;33m\u001B[0m\u001B[1;33m\u001B[0m\u001B[0m\n",
      "\u001B[1;32m~\\AppData\\Local\\Programs\\Python\\Python38\\lib\\site-packages\\matplotlib\\axes\\_base.py\u001B[0m in \u001B[0;36m_plot_args\u001B[1;34m(self, tup, kwargs)\u001B[0m\n\u001B[0;32m    397\u001B[0m \u001B[1;33m\u001B[0m\u001B[0m\n\u001B[0;32m    398\u001B[0m         \u001B[1;32mif\u001B[0m \u001B[0mx\u001B[0m\u001B[1;33m.\u001B[0m\u001B[0mshape\u001B[0m\u001B[1;33m[\u001B[0m\u001B[1;36m0\u001B[0m\u001B[1;33m]\u001B[0m \u001B[1;33m!=\u001B[0m \u001B[0my\u001B[0m\u001B[1;33m.\u001B[0m\u001B[0mshape\u001B[0m\u001B[1;33m[\u001B[0m\u001B[1;36m0\u001B[0m\u001B[1;33m]\u001B[0m\u001B[1;33m:\u001B[0m\u001B[1;33m\u001B[0m\u001B[1;33m\u001B[0m\u001B[0m\n\u001B[1;32m--> 399\u001B[1;33m             raise ValueError(f\"x and y must have same first dimension, but \"\n\u001B[0m\u001B[0;32m    400\u001B[0m                              f\"have shapes {x.shape} and {y.shape}\")\n\u001B[0;32m    401\u001B[0m         \u001B[1;32mif\u001B[0m \u001B[0mx\u001B[0m\u001B[1;33m.\u001B[0m\u001B[0mndim\u001B[0m \u001B[1;33m>\u001B[0m \u001B[1;36m2\u001B[0m \u001B[1;32mor\u001B[0m \u001B[0my\u001B[0m\u001B[1;33m.\u001B[0m\u001B[0mndim\u001B[0m \u001B[1;33m>\u001B[0m \u001B[1;36m2\u001B[0m\u001B[1;33m:\u001B[0m\u001B[1;33m\u001B[0m\u001B[1;33m\u001B[0m\u001B[0m\n",
      "\u001B[1;31mValueError\u001B[0m: x and y must have same first dimension, but have shapes torch.Size([64]) and torch.Size([256])"
     ]
    },
    {
     "data": {
      "text/plain": "<Figure size 432x288 with 1 Axes>",
      "image/png": "[encoded data removed]"
     },
     "metadata": {
      "needs_background": "light"
     },
     "output_type": "display_data"
    }
   ],
   "source": [
    "model.eval()\n",
    "with torch.no_grad():\n",
    "    function_dist = model(quadrature_times)\n",
    "    intensity_samples = function_dist(torch.Size([1000])).exp() * model.mean_intensity\n",
    "    lower, mean, upper = percentiles_from_samples(intensity_samples)\n",
    "\n",
    "# Plot the predicted intensity function\n",
    "fig, ax = plt.subplots(1, 1)\n",
    "line, = ax.plot(quadrature_times, mean, label=r\"Pred $\\lambda$\")\n",
    "ax.fill_between(quadrature_times, lower, upper, color=line.get_color(), alpha=0.5)\n",
    "ax.plot(quadrature_times, true_intensity_function(quadrature_times), \"--\", color=\"k\", label=r\"True. $\\lambda$\")\n",
    "ax.legend(loc=\"best\")\n",
    "ax.set_xlabel(\"Time\")\n",
    "ax.set_ylabel(\"Intensity ($\\lambda$)\")\n",
    "ax.scatter(arrival_times, torch.zeros_like(arrival_times), label=r\"Observed Arrivals\")"
   ],
   "metadata": {
    "collapsed": false,
    "pycharm": {
     "name": "#%%\n"
    }
   }
  },
  {
   "cell_type": "code",
   "execution_count": null,
   "outputs": [],
   "source": [],
   "metadata": {
    "collapsed": false,
    "pycharm": {
     "name": "#%%\n"
    }
   }
  }
 ],
 "metadata": {
  "kernelspec": {
   "display_name": "Python 3",
   "language": "python",
   "name": "python3"
  },
  "language_info": {
   "codemirror_mode": {
    "name": "ipython",
    "version": 2
   },
   "file_extension": ".py",
   "mimetype": "text/x-python",
   "name": "python",
   "nbconvert_exporter": "python",
   "pygments_lexer": "ipython2",
   "version": "2.7.6"
  }
 },
 "nbformat": 4,
 "nbformat_minor": 0
}